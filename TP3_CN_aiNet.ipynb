{
  "nbformat": 4,
  "nbformat_minor": 0,
  "metadata": {
    "colab": {
      "name": "TP3_CN_aiNet.ipynb",
      "provenance": [],
      "collapsed_sections": [],
      "authorship_tag": "ABX9TyMvnrf1ogGGnTHK+pEhnLM7",
      "include_colab_link": true
    },
    "kernelspec": {
      "name": "python3",
      "display_name": "Python 3"
    },
    "language_info": {
      "name": "python"
    }
  },
  "cells": [
    {
      "cell_type": "markdown",
      "metadata": {
        "id": "view-in-github",
        "colab_type": "text"
      },
      "source": [
        "<a href=\"https://colab.research.google.com/github/Filip3ra/CNTP3_aiNet/blob/master/TP3_CN_aiNet.ipynb\" target=\"_parent\"><img src=\"https://colab.research.google.com/assets/colab-badge.svg\" alt=\"Open In Colab\"/></a>"
      ]
    },
    {
      "cell_type": "markdown",
      "source": [
        "**TP3 Computação Natural - Algoritmo aiNet**"
      ],
      "metadata": {
        "id": "M9jPsDFiGJSu"
      }
    },
    {
      "cell_type": "code",
      "execution_count": 1,
      "metadata": {
        "id": "uKIg7O-1F6xc"
      },
      "outputs": [],
      "source": [
        "import math\n",
        "import numpy as np\n",
        "import random"
      ]
    },
    {
      "cell_type": "markdown",
      "source": [
        "Dados de entrada e constantes:"
      ],
      "metadata": {
        "id": "sIPBPJmjGIHM"
      }
    },
    {
      "cell_type": "code",
      "source": [
        "ITEMS_DATA = np.array([[1.60, 0.70],\n",
        "                       [1.53, 0.60],\n",
        "                       [1.62, 0.68],\n",
        "                       [1.64, 0.90],\n",
        "                       \n",
        "                       [1.85, 0.03],\n",
        "                       [1.84, 0.09],\n",
        "                       [1.89, 0.10],\n",
        "                       [1.90, 0.12],\n",
        "                       [1.83, 0.06]])\n",
        "\n",
        "ITEMS_QUANTITY = GRID_SIZE = ITEMS_DATA.shape[0]"
      ],
      "metadata": {
        "id": "SAnTQ8J2JL4Z"
      },
      "execution_count": 2,
      "outputs": []
    },
    {
      "cell_type": "markdown",
      "source": [
        "Gera a Grade:"
      ],
      "metadata": {
        "id": "n3cqFJf7KG3u"
      }
    },
    {
      "cell_type": "code",
      "source": [
        "def generate_new_grid():\n",
        "  return np.full((GRID_SIZE, GRID_SIZE), 0)\n",
        "\n",
        "grid = generate_new_grid()\n",
        "\n",
        "print(grid)"
      ],
      "metadata": {
        "colab": {
          "base_uri": "https://localhost:8080/"
        },
        "id": "GSy_Nn01KJEv",
        "outputId": "e0b563c5-e31d-4b09-fe6a-268925f2d68b"
      },
      "execution_count": 3,
      "outputs": [
        {
          "output_type": "stream",
          "name": "stdout",
          "text": [
            "[[0 0 0 0 0 0 0 0 0]\n",
            " [0 0 0 0 0 0 0 0 0]\n",
            " [0 0 0 0 0 0 0 0 0]\n",
            " [0 0 0 0 0 0 0 0 0]\n",
            " [0 0 0 0 0 0 0 0 0]\n",
            " [0 0 0 0 0 0 0 0 0]\n",
            " [0 0 0 0 0 0 0 0 0]\n",
            " [0 0 0 0 0 0 0 0 0]\n",
            " [0 0 0 0 0 0 0 0 0]]\n"
          ]
        }
      ]
    },
    {
      "cell_type": "markdown",
      "source": [
        "Gera Anticorpos: A população Ab de anticorpos é composta por duas subpopulações, a **Abm** (anticorpos de memória) e a **Abr** (anticorpos restantes)."
      ],
      "metadata": {
        "id": "AEZCKm0SKqKe"
      }
    },
    {
      "cell_type": "code",
      "source": [
        "def generate_antibodies():\n",
        "  quantity = 10\n",
        "  antibodies = []\n",
        "\n",
        "  for _ in range(math.floor(quantity / 2)):\n",
        "    random_height = random.uniform(1.8, 2.0)\n",
        "    random_score = random.uniform(0, 0.1)\n",
        "    antibodies.append([random_height, random_score])\n",
        "\n",
        "  for _ in range(math.floor(quantity / 2)):\n",
        "    random_height = random.uniform(1.5, 1.65)\n",
        "    random_score = random.uniform(0.8, 1)\n",
        "    antibodies.append([random_height, random_score])\n",
        "\n",
        "  return np.array(antibodies)"
      ],
      "metadata": {
        "id": "zV_803yeKvV2"
      },
      "execution_count": 4,
      "outputs": []
    },
    {
      "cell_type": "markdown",
      "source": [
        "Calcula Afinidade com Antígeno:\n",
        "\n",
        "1) Seleciona um antígeno da população (Ag).\n",
        "\n",
        "2) Para cada elemento da população de Ab calculamos a afinidade ao antigeno selecionado. (Inverso da distância euclidiana)\n",
        "\n",
        "3) Seleciona os **n** anticorpos de afinidade mais alta"
      ],
      "metadata": {
        "id": "p4u4GRZqQrF4"
      }
    },
    {
      "cell_type": "code",
      "source": [
        "ANTIBODIES = generate_antibodies()\n",
        "\n",
        "size_1 = int((ANTIBODIES.size)/2)\n",
        "size_2 = int((ITEMS_DATA.size/2))\n",
        "\n",
        "\n",
        "sum_affinity = 0.0\n",
        "sum_array = []\n",
        "\n",
        "for i in range(size_1):\n",
        "  anti_body = ANTIBODIES[i]\n",
        "  print(\"atibodie = \", anti_body)\n",
        "\n",
        "  for j in range(size_2):\n",
        "    pow_1 = math.pow(ITEMS_DATA[j][0] - anti_body[0], 2)\n",
        "    pow_2 = math.pow(ITEMS_DATA[j][1] - anti_body[1], 2)    \n",
        "    affinity = 1/(math.sqrt(pow_1 + pow_2))\n",
        "    sum_affinity += affinity\n",
        "\n",
        "    #print(\"um = \", ITEMS_DATA[j][0], \"dois = \", ITEMS_DATA[j][1])\n",
        "    print(affinity)\n",
        "  print(\"Afinidade total = \", sum_affinity)\n",
        "  sum_array.append(sum_affinity)\n",
        "  sum_affinity = 0.0\n",
        "\n",
        "for k in range(len(sum_array)):\n",
        "  print(sum_array[k])"
      ],
      "metadata": {
        "colab": {
          "base_uri": "https://localhost:8080/"
        },
        "id": "TAYdoqoQRFix",
        "outputId": "cefd2080-eabf-4ec8-8c69-d662fb6a82a8"
      },
      "execution_count": 14,
      "outputs": [
        {
          "output_type": "stream",
          "name": "stdout",
          "text": [
            "atibodie =  [1.87819931 0.0155926 ]\n",
            "1.353567489208305\n",
            "1.4699926549432154\n",
            "1.4028901329871082\n",
            "1.0917945623207777\n",
            "31.579006082964128\n",
            "11.956003058309372\n",
            "11.733189835974647\n",
            "9.375660145947233\n",
            "15.258392889158136\n",
            "Afinidade total =  85.22049685181291\n",
            "atibodie =  [1.98187891 0.07407206]\n",
            "1.3638398942041845\n",
            "1.4421822490334246\n",
            "1.4169011287927247\n",
            "1.1187067137439526\n",
            "7.191752414140866\n",
            "7.0042639034548095\n",
            "10.47479880810628\n",
            "10.651849874387043\n",
            "6.556112032767669\n",
            "Afinidade total =  47.22040701863095\n",
            "atibodie =  [1.98625245 0.04312764]\n",
            "1.3123040263395136\n",
            "1.389058877647846\n",
            "1.3611461994287968\n",
            "1.0820324819572358\n",
            "7.305487844969027\n",
            "6.511267117398877\n",
            "8.944629792184728\n",
            "8.655220754420164\n",
            "6.362911457736384\n",
            "Afinidade total =  42.92405855208257\n",
            "atibodie =  [1.83430081 0.02371987]\n",
            "1.3971991225242744\n",
            "1.5344756836047126\n",
            "1.4484717264928741\n",
            "1.1141276955487296\n",
            "59.14110680052264\n",
            "15.032010073585397\n",
            "10.587461095760135\n",
            "8.579268394328329\n",
            "27.371645847278263\n",
            "Afinidade total =  126.20576643964534\n",
            "atibodie =  [1.85304993 0.01005283]\n",
            "1.3607503218240227\n",
            "1.4867543579164784\n",
            "1.409791665476109\n",
            "1.0927844276907748\n",
            "49.55649494543313\n",
            "12.344878899750704\n",
            "10.283734230133303\n",
            "8.364558644515887\n",
            "18.17875655846576\n",
            "Afinidade total =  104.07850405120617\n",
            "atibodie =  [1.64993803 0.97456207]\n",
            "3.583374655251133\n",
            "2.5426131106166974\n",
            "3.377470669109367\n",
            "13.2940795519295\n",
            "1.0357149754819335\n",
            "1.1052769914388125\n",
            "1.1026433550595935\n",
            "1.1230941700274235\n",
            "1.0728242268958261\n",
            "Afinidade total =  28.23709170581029\n",
            "atibodie =  [1.5515881  0.97016166]\n",
            "3.643451903690134\n",
            "2.6969397146156258\n",
            "3.3543833925757873\n",
            "8.859859853411562\n",
            "1.013803848229327\n",
            "1.0796681290148573\n",
            "1.071064193158792\n",
            "1.0883940307753734\n",
            "1.0506500620538204\n",
            "Afinidade total =  23.858215127525277\n",
            "atibodie =  [1.57144474 0.9811085 ]\n",
            "3.5391325582204813\n",
            "2.608545548596548\n",
            "3.2787071662980067\n",
            "9.416207516712909\n",
            "1.0090203941370415\n",
            "1.0744639316837192\n",
            "1.0673205694454022\n",
            "1.0849992848343926\n",
            "1.0452501537558034\n",
            "Afinidade total =  24.123647123684307\n",
            "atibodie =  [1.51822524 0.98136707]\n",
            "3.4128591908310493\n",
            "2.620896723888031\n",
            "3.143780442897392\n",
            "6.827936545475399\n",
            "0.9924983687651077\n",
            "1.0552221008146754\n",
            "1.0454028191033287\n",
            "1.0613670958048191\n",
            "1.0280795259707363\n",
            "Afinidade total =  21.18804281355054\n",
            "atibodie =  [1.52573296 0.84989299]\n",
            "5.977904375236876\n",
            "4.001129580968522\n",
            "5.146856675614853\n",
            "8.014717336127735\n",
            "1.1341881275433137\n",
            "1.2160797391548288\n",
            "1.1994944191508607\n",
            "1.2191318662936348\n",
            "1.1813784985138835\n",
            "Afinidade total =  29.090880618604505\n",
            "85.22049685181291\n",
            "47.22040701863095\n",
            "42.92405855208257\n",
            "126.20576643964534\n",
            "104.07850405120617\n",
            "28.23709170581029\n",
            "23.858215127525277\n",
            "24.123647123684307\n",
            "21.18804281355054\n",
            "29.090880618604505\n"
          ]
        }
      ]
    }
  ]
}